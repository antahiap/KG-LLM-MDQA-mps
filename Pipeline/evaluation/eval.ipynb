{
 "cells": [
  {
   "cell_type": "code",
   "execution_count": 169,
   "id": "0ca10878-f596-4c47-9b84-72ee067f9ad1",
   "metadata": {},
   "outputs": [],
   "source": [
    "from evaluation import f1_score, exact_match_score, f1, ems\n",
    "import pickle as pkl\n",
    "import json\n",
    "import numpy as np\n",
    "import itertools"
   ]
  },
  {
   "cell_type": "code",
   "execution_count": 166,
   "id": "14b7ae35-d0b3-4c07-86a2-2c10e39c6955",
   "metadata": {},
   "outputs": [],
   "source": [
    "def evaluate(dataset, retriever, k = None, round = 5, topks = [1, 5, 10, 20, 30], k_emb = 15):    \n",
    "    if retriever != 'knn':\n",
    "        res = json.load(open('../result/{}/{}_{}.json'.format(dataset, retriever, k), 'rb'))\n",
    "    else:\n",
    "        res = json.load(open('../result/{}/{}_{}_{}.json'.format(dataset, retriever, k_emb, k), 'rb'))\n",
    "    \n",
    "    \n",
    "    filter_res = [r for r in res if r['prediction'] != 'System mistake']\n",
    "    \n",
    "    f1s, emss, accs = [], [], []\n",
    "    \n",
    "    if retriever not in ['golden', 'no']:\n",
    "        recall, precision, sp_em = [], [], []\n",
    "    \n",
    "    for r in filter_res:\n",
    "        accs.append(('1' in r['grade'])*1.0)\n",
    "        \n",
    "        if dataset in ['hotpotqa', 'wikimultihop', 'musique']:\n",
    "            f1s.append(f1_score(r['prediction'], r['answer']))\n",
    "            emss.append(exact_match_score(r['prediction'], r['answer']))\n",
    "            \n",
    "        elif dataset in ['iirc']:\n",
    "            f1s.append(f1(r['prediction'], r['answer']))\n",
    "            emss.append(ems(r['prediction'], r['answer']))\n",
    "        \n",
    "        r['corpus'] = list(itertools.chain(*[_.split('\\n') for _ in r['corpus']]))\n",
    "        if retriever not in ['golden', 'no']:\n",
    "            evi = set([_[1] for _ in r['supports']])\n",
    "            \n",
    "            tmp_recall = []\n",
    "            tmp_precision = []    \n",
    "            tmp_sp_em = []\n",
    "            for kk in topks:\n",
    "                if kk <= k:\n",
    "                    tmp = set(r['corpus'][:kk])\n",
    "\n",
    "                    tmp_recall.append(len(evi.intersection(tmp))/len(evi))\n",
    "                    tmp_precision.append(len(evi.intersection(tmp))/kk)\n",
    "                    \n",
    "                    if evi.issubset(tmp):\n",
    "                        tmp_sp_em.append(1)\n",
    "                    else:\n",
    "                        tmp_sp_em.append(0)\n",
    "                \n",
    "            \n",
    "            recall.append(tmp_recall)\n",
    "            precision.append(tmp_precision)\n",
    "            sp_em.append(tmp_sp_em)\n",
    "\n",
    "    \n",
    "    print('Acc:', np.mean(accs))\n",
    "    print('F1:', np.mean(f1s))\n",
    "    print('EM:', np.mean(emss))\n",
    "    \n",
    "\n",
    "    if retriever not in ['golden', 'no']:\n",
    "        print('Recall:', np.mean(np.array(recall), axis = 0))\n",
    "        print('Precision:', np.mean(np.array(precision), axis = 0))\n",
    "        print('SP_EM:', np.mean(np.array(sp_em), axis = 0))"
   ]
  },
  {
   "cell_type": "markdown",
   "id": "937392bc-227e-401b-9d3d-8a829a0dbf3e",
   "metadata": {},
   "source": [
    "# IIRC"
   ]
  },
  {
   "cell_type": "code",
   "execution_count": 149,
   "id": "153b8935-d0f5-4893-859e-2c48199c494f",
   "metadata": {},
   "outputs": [
    {
     "name": "stdout",
     "output_type": "stream",
     "text": [
      "Acc: 0.6268343815513627\n",
      "F1: 0.5475670282089076\n",
      "EM: 0.35639412997903563\n"
     ]
    }
   ],
   "source": [
    "# Golden\n",
    "evaluate(dataset = 'iirc', retriever = 'golden', k = 30)"
   ]
  },
  {
   "cell_type": "code",
   "execution_count": 150,
   "id": "52897881-0224-4807-a9e4-d424d7ef4bb4",
   "metadata": {},
   "outputs": [
    {
     "name": "stdout",
     "output_type": "stream",
     "text": [
      "Acc: 0.1949685534591195\n",
      "F1: 0.13173226726685847\n",
      "EM: 0.0859538784067086\n"
     ]
    }
   ],
   "source": [
    "# No\n",
    "evaluate(dataset = 'iirc', retriever = 'no', k = 30)"
   ]
  },
  {
   "cell_type": "code",
   "execution_count": 151,
   "id": "4c7a12a0-9c42-488c-ab81-98f1289de328",
   "metadata": {},
   "outputs": [
    {
     "name": "stdout",
     "output_type": "stream",
     "text": [
      "Acc: 0.4381551362683438\n",
      "F1: 0.3723802032557411\n",
      "EM: 0.25157232704402516\n",
      "Recall: [0.00950384 0.04808326 0.1334914  0.44783451 0.46844947]\n",
      "Precision: [0.0230608  0.02389937 0.03291405 0.05366876 0.03752621]\n",
      "SP_EM: [0.00209644 0.00628931 0.0230608  0.1802935  0.19496855]\n"
     ]
    }
   ],
   "source": [
    "# KNN\n",
    "evaluate(dataset = 'iirc', retriever = 'knn', k = 30, k_emb = 15)"
   ]
  },
  {
   "cell_type": "code",
   "execution_count": 152,
   "id": "952b35a0-b4cd-4dd0-a547-7e11c4acec41",
   "metadata": {},
   "outputs": [
    {
     "name": "stdout",
     "output_type": "stream",
     "text": [
      "Acc: 0.47468354430379744\n",
      "F1: 0.4080300029986812\n",
      "EM: 0.2721518987341772\n",
      "Recall: [0.27879587 0.48984259 0.55870938 0.61531979 0.64281627]\n",
      "Precision: [0.63924051 0.23417722 0.13396624 0.07415612 0.05161744]\n",
      "SP_EM: [0.00632911 0.15400844 0.23417722 0.29535865 0.33966245]\n"
     ]
    }
   ],
   "source": [
    "# Tf-IDF\n",
    "evaluate(dataset = 'iirc', retriever = 'tf-idf', k = 30)"
   ]
  },
  {
   "cell_type": "code",
   "execution_count": 153,
   "id": "62e6b418-088f-48e8-9788-80b7ee99e276",
   "metadata": {},
   "outputs": [
    {
     "name": "stdout",
     "output_type": "stream",
     "text": [
      "Acc: 0.4192872117400419\n",
      "F1: 0.35552822234287274\n",
      "EM: 0.2348008385744235\n",
      "Recall: [0.18504383 0.35476622 0.41668096 0.46811353 0.5013071 ]\n",
      "Precision: [0.42976939 0.1672956  0.09874214 0.0557652  0.03997205]\n",
      "SP_EM: [0.00209644 0.06918239 0.11949686 0.16561845 0.19496855]\n"
     ]
    }
   ],
   "source": [
    "# Bm25\n",
    "evaluate(dataset = 'iirc', retriever = 'bm25', k = 30)"
   ]
  },
  {
   "cell_type": "code",
   "execution_count": 154,
   "id": "49ebfa69-2bd2-4f93-aa8c-a1350c4c6533",
   "metadata": {},
   "outputs": [
    {
     "name": "stdout",
     "output_type": "stream",
     "text": [
      "Acc: 0.4630021141649049\n",
      "F1: 0.4143313677575586\n",
      "EM: 0.2769556025369979\n",
      "Recall: [0.27973765 0.49052584 0.56006677 0.61074464 0.64314262]\n",
      "Precision: [0.64059197 0.23424947 0.13403805 0.07357294 0.05179704]\n",
      "SP_EM: [0.00634249 0.15433404 0.23678647 0.29175476 0.34038055]\n"
     ]
    }
   ],
   "source": [
    "# KG\n",
    "evaluate(dataset = 'iirc', retriever = 'kg_test_docs_graph', k = 30)"
   ]
  },
  {
   "cell_type": "code",
   "execution_count": 155,
   "id": "39bbed06-eed0-41af-b277-b738994b6067",
   "metadata": {},
   "outputs": [
    {
     "name": "stdout",
     "output_type": "stream",
     "text": [
      "Acc: 0.5084033613445378\n",
      "F1: 0.43474292747401994\n",
      "EM: 0.27521008403361347\n",
      "Recall: [0.21410905 0.35840177 0.47716928 0.54595679 0.57134195]\n",
      "Precision: [0.5        0.16722689 0.11302521 0.06533613 0.04572829]\n",
      "SP_EM: [0.00210084 0.11344538 0.21848739 0.27521008 0.29201681]\n"
     ]
    }
   ],
   "source": [
    "# MDR\n",
    "evaluate(dataset = 'iirc', retriever = 'mhop', k = 30)"
   ]
  },
  {
   "cell_type": "code",
   "execution_count": 156,
   "id": "ea9a525b-5158-4b98-888c-affd477718d8",
   "metadata": {},
   "outputs": [
    {
     "name": "stdout",
     "output_type": "stream",
     "text": [
      "Acc: 0.5189075630252101\n",
      "F1: 0.4499719424311614\n",
      "EM: 0.30462184873949577\n",
      "Recall: [0.27937516 0.4202265  0.54062466 0.64572859 0.6896429 ]\n",
      "Precision: [0.6407563  0.19621849 0.12920168 0.07857143 0.05644258]\n",
      "SP_EM: [0.00630252 0.13865546 0.2710084  0.37184874 0.42226891]\n"
     ]
    }
   ],
   "source": [
    "# LLaMA\n",
    "evaluate(dataset = 'iirc', retriever = 'llama', k = 30)"
   ]
  },
  {
   "cell_type": "code",
   "execution_count": 157,
   "id": "adb493bd-cf10-4669-9ab3-bbe5affe94e3",
   "metadata": {},
   "outputs": [
    {
     "name": "stdout",
     "output_type": "stream",
     "text": [
      "Acc: 0.4810924369747899\n",
      "F1: 0.41847556610285236\n",
      "EM: 0.2689075630252101\n",
      "Recall: [0.20551471 0.42413215 0.53066477 0.65254185 0.71594888]\n",
      "Precision: [0.46428571 0.20420168 0.12752101 0.07962185 0.05903361]\n",
      "SP_EM: [0.00420168 0.11344538 0.23739496 0.3907563  0.48739496]\n"
     ]
    }
   ],
   "source": [
    "# DPR\n",
    "evaluate(dataset = 'iirc', retriever = 'dpr', k = 30)"
   ]
  },
  {
   "cell_type": "code",
   "execution_count": 158,
   "id": "1a081df8-2f83-480f-a7c6-1bd009fb5b46",
   "metadata": {},
   "outputs": [
    {
     "name": "stdout",
     "output_type": "stream",
     "text": [
      "Acc: 0.5063025210084033\n",
      "F1: 0.43624963532650135\n",
      "EM: 0.28991596638655465\n",
      "Recall: [0.27937516 0.43636295 0.53866387 0.62517522 0.65743904]\n",
      "Precision: [0.6407563  0.20420168 0.12941176 0.07605042 0.05357143]\n",
      "SP_EM: [0.00630252 0.16386555 0.25420168 0.34243697 0.38235294]\n"
     ]
    }
   ],
   "source": [
    "# T5\n",
    "evaluate(dataset = 'iirc', retriever = 't5', k = 30)"
   ]
  },
  {
   "cell_type": "code",
   "execution_count": 159,
   "id": "09a7fa69-7efa-4aba-adff-3df5271db6eb",
   "metadata": {},
   "outputs": [
    {
     "name": "stdout",
     "output_type": "stream",
     "text": [
      "Acc: 0.4827586206896552\n",
      "F1: 0.41542967257023256\n",
      "EM: 0.26939655172413796\n",
      "Recall: [0.27959607 0.3785544  0.4906285  0.5860916  0.62253454]\n",
      "Precision: [0.64008621 0.17801724 0.11702586 0.07047414 0.05014368]\n",
      "SP_EM: [0.00646552 0.07543103 0.16810345 0.27155172 0.31896552]\n"
     ]
    }
   ],
   "source": [
    "# KG-T5\n",
    "evaluate(dataset = 'iirc', retriever = 'kg-t5_test_docs_graph', k = 30)"
   ]
  },
  {
   "cell_type": "code",
   "execution_count": 161,
   "id": "5980f156-ae49-468f-8bec-4ad7783dc6ed",
   "metadata": {},
   "outputs": [
    {
     "name": "stdout",
     "output_type": "stream",
     "text": [
      "Acc: 0.4957446808510638\n",
      "F1: 0.42556766665402457\n",
      "EM: 0.28085106382978725\n",
      "Recall: [0.28045938 0.37211423 0.5012125  0.60605976 0.64905875]\n",
      "Precision: [0.64255319 0.17574468 0.12085106 0.07319149 0.05248227]\n",
      "SP_EM: [0.00638298 0.06808511 0.19148936 0.3        0.35957447]\n"
     ]
    }
   ],
   "source": [
    "# KG-LLaMA\n",
    "evaluate(dataset = 'iirc', retriever = 'kg-llama_test_docs_graph', k = 30)"
   ]
  },
  {
   "cell_type": "code",
   "execution_count": 162,
   "id": "c6888155-445f-40c5-b43b-28d6805130e1",
   "metadata": {},
   "outputs": [
    {
     "name": "stdout",
     "output_type": "stream",
     "text": [
      "Acc: 0.4978165938864629\n",
      "F1: 0.41654503458125347\n",
      "EM: 0.27729257641921395\n",
      "Recall: [0.28355002 0.49723884 0.60661189 0.67215661 0.70254234]\n",
      "Precision: [0.64847162 0.23668122 0.1441048  0.08067686 0.0562591 ]\n",
      "SP_EM: [0.00655022 0.15720524 0.31659389 0.41484716 0.46724891]\n"
     ]
    }
   ],
   "source": [
    "# IRCoT\n",
    "evaluate(dataset = 'iirc', retriever = 'ircot', k = 30)"
   ]
  },
  {
   "cell_type": "code",
   "execution_count": 163,
   "id": "b29f9afc-59eb-4d70-98e7-6e3f89958796",
   "metadata": {},
   "outputs": [
    {
     "name": "stdout",
     "output_type": "stream",
     "text": [
      "Acc: 0.4957805907172996\n",
      "F1: 0.43211468118765217\n",
      "EM: 0.29324894514767935\n",
      "Recall: [0.27879587 0.37387323 0.49525248 0.59532783 0.62717265]\n",
      "Precision: [0.63924051 0.1742616  0.11835443 0.07120253 0.05014065]\n",
      "SP_EM: [0.00632911 0.07805907 0.16877637 0.28481013 0.33333333]\n"
     ]
    }
   ],
   "source": [
    "# KG-MDR\n",
    "evaluate(dataset = 'iirc', retriever = 'kg-mdr_test_docs_graph', k = 30)"
   ]
  },
  {
   "cell_type": "code",
   "execution_count": 164,
   "id": "5bdeaf16-cf21-4e4f-b50e-53c8f3fa7e38",
   "metadata": {},
   "outputs": [
    {
     "name": "stdout",
     "output_type": "stream",
     "text": [
      "Acc: 0.5297872340425532\n",
      "F1: 0.44641096283774634\n",
      "EM: 0.29148936170212764\n",
      "Recall: [0.27861541 0.42336718 0.54363567 0.634437   0.66495372]\n",
      "Precision: [0.63829787 0.19659574 0.12851064 0.07574468 0.05312057]\n",
      "SP_EM: [0.00638298 0.14680851 0.25531915 0.35744681 0.4       ]\n"
     ]
    }
   ],
   "source": [
    "# LLM-MDR\n",
    "evaluate(dataset = 'iirc', retriever = 'llm-mdr', k = 30)"
   ]
  },
  {
   "cell_type": "markdown",
   "id": "383aace4-6b1b-4b57-8e66-b7d66a893da6",
   "metadata": {},
   "source": [
    "# HotpotQA"
   ]
  },
  {
   "cell_type": "code",
   "execution_count": 96,
   "id": "b56f961a-debc-4ed9-ac6e-ddf5a7bc5432",
   "metadata": {},
   "outputs": [
    {
     "name": "stdout",
     "output_type": "stream",
     "text": [
      "Acc: 0.8218623481781376\n",
      "F1: 0.7106223583777763\n",
      "EM: 0.5020242914979757\n"
     ]
    }
   ],
   "source": [
    "# Golden\n",
    "evaluate(dataset = 'hotpotqa', retriever = 'golden', k = 30)"
   ]
  },
  {
   "cell_type": "code",
   "execution_count": 6,
   "id": "267c9bf0-cb4e-4f06-bb26-e054f2ba0b52",
   "metadata": {},
   "outputs": [
    {
     "name": "stdout",
     "output_type": "stream",
     "text": [
      "Acc: 0.418\n",
      "F1: 0.30504087374613686\n",
      "EM: 0.19\n"
     ]
    }
   ],
   "source": [
    "# No\n",
    "evaluate(dataset = 'hotpotqa', retriever = 'no', k = 30)"
   ]
  },
  {
   "cell_type": "code",
   "execution_count": 139,
   "id": "041f7af9-7b3b-4d46-9dfb-e5d272d78248",
   "metadata": {},
   "outputs": [
    {
     "name": "stdout",
     "output_type": "stream",
     "text": [
      "Acc: 0.7075268817204301\n",
      "F1: 0.4593725352098424\n",
      "EM: 0.22795698924731184\n",
      "Recall: [0. 0. 0. 0. 0.]\n",
      "Precision: [0. 0. 0. 0. 0.]\n",
      "SP_EM: [0. 0. 0. 0. 0.]\n"
     ]
    }
   ],
   "source": [
    "# bm25\n",
    "evaluate(dataset = 'hotpotqa', retriever = 'bm25', k = 30)"
   ]
  },
  {
   "cell_type": "code",
   "execution_count": 140,
   "id": "11f58573-8cf8-479c-9b45-683ac0e01b50",
   "metadata": {},
   "outputs": [
    {
     "name": "stdout",
     "output_type": "stream",
     "text": [
      "Acc: 0.7663934426229508\n",
      "F1: 0.6463696668433891\n",
      "EM: 0.4569672131147541\n",
      "Recall: [0.26240242 0.65369828 0.77736632 0.85395687 0.88483119]\n",
      "Precision: [0.61065574 0.31065574 0.18565574 0.10266393 0.07110656]\n",
      "SP_EM: [0.         0.34016393 0.55122951 0.68442623 0.74385246]\n"
     ]
    }
   ],
   "source": [
    "# TF-IDF\n",
    "evaluate(dataset = 'hotpotqa', retriever = 'tf-idf', k = 30)"
   ]
  },
  {
   "cell_type": "code",
   "execution_count": 138,
   "id": "718133e8-9b72-4ad8-a205-4f1601d45b18",
   "metadata": {},
   "outputs": [
    {
     "name": "stdout",
     "output_type": "stream",
     "text": [
      "Acc: 0.7157258064516129\n",
      "F1: 0.5797229717889111\n",
      "EM: 0.40725806451612906\n",
      "Recall: [0.0124328  0.0702477  0.22414075 0.67373752 0.690673  ]\n",
      "Precision: [0.03225806 0.03467742 0.05544355 0.08044355 0.05504032]\n",
      "SP_EM: [0.         0.00201613 0.02419355 0.41129032 0.4375    ]\n"
     ]
    }
   ],
   "source": [
    "# KNN\n",
    "evaluate(dataset = 'hotpotqa', retriever = 'knn', k = 30, k_emb = 15)"
   ]
  },
  {
   "cell_type": "code",
   "execution_count": 7,
   "id": "2682e391-ec75-4dd9-8da0-0fffd200ed3a",
   "metadata": {},
   "outputs": [
    {
     "name": "stdout",
     "output_type": "stream",
     "text": [
      "Acc: 0.7530364372469636\n",
      "F1: 0.651630315782495\n",
      "EM: 0.45546558704453444\n",
      "Recall: [0.20150376 0.50241469 0.67601697 0.76639194 0.80768749]\n",
      "Precision: [0.46761134 0.23238866 0.1562753  0.09008097 0.06369771]\n",
      "SP_EM: [0.         0.20850202 0.41295547 0.54453441 0.61133603]\n"
     ]
    }
   ],
   "source": [
    "# MDR\n",
    "evaluate(dataset = 'hotpotqa', retriever = 'mhop', k = 30)"
   ]
  },
  {
   "cell_type": "code",
   "execution_count": 98,
   "id": "d27772ef-3074-4d83-ac26-c930b154e89a",
   "metadata": {},
   "outputs": [
    {
     "name": "stdout",
     "output_type": "stream",
     "text": [
      "Acc: nan\n",
      "F1: nan\n",
      "EM: nan\n",
      "Recall: nan\n",
      "Precision: nan\n",
      "SP_EM: nan\n"
     ]
    }
   ],
   "source": [
    "# DPR\n",
    "evaluate(dataset = 'hotpotqa', retriever = 'dpr', k = 30)"
   ]
  },
  {
   "cell_type": "code",
   "execution_count": 97,
   "id": "7a8b276d-fb53-4784-8da8-6883c8ece2e3",
   "metadata": {},
   "outputs": [
    {
     "name": "stdout",
     "output_type": "stream",
     "text": [
      "Acc: 0.7598343685300207\n",
      "F1: 0.6682713840916252\n",
      "EM: 0.47619047619047616\n",
      "Recall: [0.26046042 0.55204575 0.73144533 0.84109238 0.88452134]\n",
      "Precision: [0.60662526 0.25797101 0.17308489 0.10062112 0.07094548]\n",
      "SP_EM: [0.         0.24430642 0.46376812 0.65838509 0.74120083]\n"
     ]
    }
   ],
   "source": [
    "# LLaMA\n",
    "evaluate(dataset = 'hotpotqa', retriever = 'llama', k = 30)"
   ]
  },
  {
   "cell_type": "code",
   "execution_count": 99,
   "id": "a2c032b0-321e-4b9d-b33e-7cd0786dc656",
   "metadata": {},
   "outputs": [
    {
     "name": "stdout",
     "output_type": "stream",
     "text": [
      "Acc: 0.7611336032388664\n",
      "F1: 0.6515542335201777\n",
      "EM: 0.4574898785425101\n",
      "Recall: [0.26225178 0.59471274 0.72060922 0.81345672 0.85586563]\n",
      "Precision: [0.61133603 0.27773279 0.17044534 0.09716599 0.06842105]\n",
      "SP_EM: [0.         0.28947368 0.43522267 0.59311741 0.68421053]\n"
     ]
    }
   ],
   "source": [
    "# T5\n",
    "evaluate(dataset = 'hotpotqa', retriever = 't5', k = 30)"
   ]
  },
  {
   "cell_type": "code",
   "execution_count": 168,
   "id": "5129c5e3-be95-4da8-8a2b-2f6430ffaaf5",
   "metadata": {},
   "outputs": [
    {
     "name": "stdout",
     "output_type": "stream",
     "text": [
      "Acc: 0.7551020408163265\n",
      "F1: 0.693789147360576\n",
      "EM: 0.4897959183673469\n",
      "Recall: [0.27244898 0.46462585 0.64812925 0.81632653 0.87993197]\n",
      "Precision: [0.64285714 0.21428571 0.15204082 0.09693878 0.07040816]\n",
      "SP_EM: [0.         0.14285714 0.32653061 0.59183673 0.73469388]\n"
     ]
    }
   ],
   "source": [
    "# T5-KG-TAGME\n",
    "evaluate(dataset = 'hotpotqa', retriever = 'kg-t5_graph_tagme_0.8', k = 30)"
   ]
  },
  {
   "cell_type": "code",
   "execution_count": 101,
   "id": "8ab829ac-9656-4165-bffc-6e1ff56218b9",
   "metadata": {},
   "outputs": [
    {
     "name": "stdout",
     "output_type": "stream",
     "text": [
      "Acc: 0.7566462167689162\n",
      "F1: 0.6631430560697974\n",
      "EM: 0.4621676891615542\n",
      "Recall: [0.26254747 0.48196027 0.65941669 0.80701626 0.8650112 ]\n",
      "Precision: [0.61145194 0.22413088 0.15623722 0.09631902 0.06925699]\n",
      "SP_EM: [0.         0.15746421 0.34969325 0.58691207 0.69734151]\n"
     ]
    }
   ],
   "source": [
    "# LLaMA-KG-TAGME\n",
    "evaluate(dataset = 'hotpotqa', retriever = 'kg-llama_test_docs_graph', k = 30)"
   ]
  },
  {
   "cell_type": "code",
   "execution_count": 102,
   "id": "0bc32b2a-6acf-4d80-9f53-5f31658bcfaa",
   "metadata": {},
   "outputs": [
    {
     "name": "stdout",
     "output_type": "stream",
     "text": [
      "Acc: 0.757201646090535\n",
      "F1: 0.6577063157128517\n",
      "EM: 0.4609053497942387\n",
      "Recall: [0.26279639 0.47739075 0.65930335 0.80354203 0.85172937]\n",
      "Precision: [0.61316872 0.22222222 0.15534979 0.09547325 0.068107  ]\n",
      "SP_EM: [0.         0.16872428 0.36213992 0.58641975 0.68106996]\n"
     ]
    }
   ],
   "source": [
    "# MDR-KG-TAGME\n",
    "evaluate(dataset = 'hotpotqa', retriever = 'kg-mdr_test_docs_graph', k = 30)"
   ]
  },
  {
   "cell_type": "code",
   "execution_count": 103,
   "id": "84b64eaa-9563-44a8-bf2d-b57dcaf999ec",
   "metadata": {},
   "outputs": [
    {
     "name": "stdout",
     "output_type": "stream",
     "text": [
      "Acc: 0.7435897435897436\n",
      "F1: 0.6411763526959606\n",
      "EM: 0.452991452991453\n",
      "Recall: [0.26435694 0.65189764 0.81310033 0.87932947 0.90354599]\n",
      "Precision: [0.61538462 0.31111111 0.19551282 0.10630342 0.07293447]\n",
      "SP_EM: [0.         0.33547009 0.62393162 0.7457265  0.79487179]\n"
     ]
    }
   ],
   "source": [
    "# IRCOT\n",
    "evaluate(dataset = 'hotpotqa', retriever = 'ircot', k = 30)"
   ]
  },
  {
   "cell_type": "code",
   "execution_count": 141,
   "id": "563a8e10-92eb-49f5-91f1-f9421ec3385b",
   "metadata": {},
   "outputs": [
    {
     "name": "stdout",
     "output_type": "stream",
     "text": [
      "Acc: 0.7689161554192229\n",
      "F1: 0.6541219363124814\n",
      "EM: 0.46830265848670755\n",
      "Recall: [0.26169539 0.56195345 0.75014607 0.8464164  0.8794089 ]\n",
      "Precision: [0.60940695 0.2605317  0.17546012 0.1002045  0.06993865]\n",
      "SP_EM: [0.         0.2597137  0.50102249 0.65644172 0.7198364 ]\n"
     ]
    }
   ],
   "source": [
    "# llm-mdr\n",
    "evaluate(dataset = 'hotpotqa', retriever = 'llm-mdr', k = 30)"
   ]
  },
  {
   "cell_type": "code",
   "execution_count": 148,
   "id": "61cb9c1c-54b8-446b-a3dd-defd8c89df82",
   "metadata": {},
   "outputs": [
    {
     "name": "stdout",
     "output_type": "stream",
     "text": [
      "Acc: 0.7780040733197556\n",
      "F1: 0.6657932432701811\n",
      "EM: 0.46028513238289204\n",
      "Recall: [0.26215692 0.45817089 0.63992823 0.78733392 0.84035496]\n",
      "Precision: [0.61099796 0.21344196 0.1503055  0.09358452 0.06693822]\n",
      "SP_EM: [0.         0.13849287 0.32790224 0.54786151 0.64765784]\n"
     ]
    }
   ],
   "source": [
    "# kg-chatgpt\n",
    "evaluate(dataset = 'hotpotqa', retriever = 'kg-chatgpt_test_docs_graph', k = 30)"
   ]
  },
  {
   "cell_type": "markdown",
   "id": "d946ffaa-1d90-4909-9676-bc6e9f188d42",
   "metadata": {},
   "source": [
    "# 2WikiMQA(Wikimultihop)"
   ]
  },
  {
   "cell_type": "code",
   "execution_count": 83,
   "id": "617c085c-65f7-481c-a59d-33f2cd0951d4",
   "metadata": {},
   "outputs": [
    {
     "name": "stdout",
     "output_type": "stream",
     "text": [
      "Acc: 0.726\n",
      "F1: 0.596932201132201\n",
      "EM: 0.402\n"
     ]
    }
   ],
   "source": [
    "# Golden\n",
    "evaluate(dataset = 'wikimultihop', retriever = 'golden', k = 30)"
   ]
  },
  {
   "cell_type": "code",
   "execution_count": 84,
   "id": "f7ab410e-dc39-441d-add3-5b2382f519ca",
   "metadata": {},
   "outputs": [
    {
     "name": "stdout",
     "output_type": "stream",
     "text": [
      "Acc: 0.444\n",
      "F1: 0.25073823953823954\n",
      "EM: 0.186\n"
     ]
    }
   ],
   "source": [
    "# No\n",
    "evaluate(dataset = 'wikimultihop', retriever = 'no', k = 30)"
   ]
  },
  {
   "cell_type": "code",
   "execution_count": 85,
   "id": "4fdc3c8f-e258-4416-9a0c-07b0bbaa0569",
   "metadata": {},
   "outputs": [
    {
     "name": "stdout",
     "output_type": "stream",
     "text": [
      "Acc: 0.63\n",
      "F1: 0.5244347985347986\n",
      "EM: 0.36\n",
      "Recall: [0.15216667 0.39133333 0.56833333 0.684      0.735     ]\n",
      "Precision: [0.336      0.1748     0.1296     0.0789     0.05666667]\n",
      "SP_EM: [0.    0.14  0.32  0.444 0.5  ]\n"
     ]
    }
   ],
   "source": [
    "# MDR\n",
    "evaluate(dataset = 'wikimultihop', retriever = 'mhop', k = 30)"
   ]
  },
  {
   "cell_type": "code",
   "execution_count": 86,
   "id": "0ab19d61-46be-4cb8-92ed-d58586e47b26",
   "metadata": {},
   "outputs": [
    {
     "name": "stdout",
     "output_type": "stream",
     "text": [
      "Acc: 0.624\n",
      "F1: 0.5110422688422688\n",
      "EM: 0.356\n",
      "Recall: [0.166      0.48266667 0.6685     0.806      0.8805    ]\n",
      "Precision: [0.372  0.2228 0.1566 0.0959 0.0708]\n",
      "SP_EM: [0.    0.196 0.422 0.632 0.762]\n"
     ]
    }
   ],
   "source": [
    "# DPR\n",
    "evaluate(dataset = 'wikimultihop', retriever = 'dpr', k = 30)"
   ]
  },
  {
   "cell_type": "code",
   "execution_count": 87,
   "id": "1bbf2520-ae5b-4564-b321-af81d40b0357",
   "metadata": {},
   "outputs": [
    {
     "name": "stdout",
     "output_type": "stream",
     "text": [
      "Acc: 0.524\n",
      "F1: 0.4213374070374071\n",
      "EM: 0.312\n",
      "Recall: [0.0075     0.0645     0.172      0.66016667 0.68266667]\n",
      "Precision: [0.018      0.0324     0.042      0.0778     0.05393333]\n",
      "SP_EM: [0.    0.    0.022 0.392 0.408]\n"
     ]
    }
   ],
   "source": [
    "# KNN\n",
    "evaluate(dataset = 'wikimultihop', retriever = 'knn', k = 30, k_emb = 15)"
   ]
  },
  {
   "cell_type": "code",
   "execution_count": 88,
   "id": "8872f45e-afc6-4d25-a0b7-ac468b0d77e9",
   "metadata": {},
   "outputs": [
    {
     "name": "stdout",
     "output_type": "stream",
     "text": [
      "Acc: 0.558\n",
      "F1: 0.4055049284049284\n",
      "EM: 0.308\n",
      "Recall: [0.1375     0.40816667 0.50266667 0.58816667 0.62416667]\n",
      "Precision: [0.33       0.192      0.1186     0.0706     0.05026667]\n",
      "SP_EM: [0.    0.152 0.244 0.328 0.364]\n"
     ]
    }
   ],
   "source": [
    "# bm25\n",
    "evaluate(dataset = 'wikimultihop', retriever = 'bm25', k = 30)"
   ]
  },
  {
   "cell_type": "code",
   "execution_count": 89,
   "id": "e3842b11-2e56-4586-8f0a-f10c0fee38d7",
   "metadata": {},
   "outputs": [
    {
     "name": "stdout",
     "output_type": "stream",
     "text": [
      "Acc: 0.584\n",
      "F1: 0.44495413475413476\n",
      "EM: 0.346\n",
      "Recall: [0.208      0.52416667 0.61216667 0.69566667 0.73666667]\n",
      "Precision: [0.48   0.244  0.1434 0.0825 0.0588]\n",
      "SP_EM: [0.    0.236 0.334 0.442 0.5  ]\n"
     ]
    }
   ],
   "source": [
    "# TF-IDF\n",
    "evaluate(dataset = 'wikimultihop', retriever = 'tf-idf', k = 30)"
   ]
  },
  {
   "cell_type": "code",
   "execution_count": 135,
   "id": "79f9ca37-e33e-4891-802c-0a04d6dd3c23",
   "metadata": {},
   "outputs": [
    {
     "name": "stdout",
     "output_type": "stream",
     "text": [
      "Acc: 0.6428571428571429\n",
      "F1: 0.5702380952380952\n",
      "EM: 0.42857142857142855\n",
      "Recall: [0.19642857 0.46428571 0.58928571 0.6875     0.73214286]\n",
      "Precision: [0.46428571 0.21428571 0.13214286 0.07678571 0.0547619 ]\n",
      "SP_EM: [0.         0.28571429 0.35714286 0.5        0.53571429]\n"
     ]
    }
   ],
   "source": [
    "# LLaMA\n",
    "evaluate(dataset = 'wikimultihop', retriever = 'llama', k = 30)"
   ]
  },
  {
   "cell_type": "code",
   "execution_count": 136,
   "id": "42cc8991-ebd3-4a6a-a07d-560c8d92ade1",
   "metadata": {},
   "outputs": [
    {
     "name": "stdout",
     "output_type": "stream",
     "text": [
      "Acc: 0.664\n",
      "F1: 0.5548675102675102\n",
      "EM: 0.408\n",
      "Recall: [0.208      0.49166667 0.62783333 0.7155     0.753     ]\n",
      "Precision: [0.48   0.2268 0.1442 0.0819 0.0574]\n",
      "SP_EM: [0.    0.236 0.382 0.502 0.55 ]\n"
     ]
    }
   ],
   "source": [
    "# T5 \n",
    "evaluate(dataset = 'wikimultihop', retriever = 't5', k = 30)"
   ]
  },
  {
   "cell_type": "code",
   "execution_count": 137,
   "id": "31f2585e-61e7-4425-a477-e5f8459abfb5",
   "metadata": {},
   "outputs": [
    {
     "name": "stdout",
     "output_type": "stream",
     "text": [
      "Acc: 0.6181015452538632\n",
      "F1: 0.5017258434476978\n",
      "EM: 0.37748344370860926\n",
      "Recall: [0.20640177 0.52336277 0.66629875 0.72038263 0.75459897]\n",
      "Precision: [0.47240618 0.24326711 0.15695364 0.08532009 0.0598234 ]\n",
      "SP_EM: [0.         0.23399558 0.41059603 0.49227373 0.53642384]\n"
     ]
    }
   ],
   "source": [
    "# IRCoT\n",
    "evaluate(dataset = 'wikimultihop', retriever = 'ircot', k = 30)"
   ]
  },
  {
   "cell_type": "code",
   "execution_count": 90,
   "id": "63c91933-ff3d-4910-895f-3e9625fc7a83",
   "metadata": {},
   "outputs": [
    {
     "name": "stdout",
     "output_type": "stream",
     "text": [
      "Acc: 0.6347826086956522\n",
      "F1: 0.5216227371662154\n",
      "EM: 0.3760869565217391\n",
      "Recall: [0.20815217 0.39384058 0.5625     0.7048913  0.75923913]\n",
      "Precision: [0.47173913 0.17826087 0.12891304 0.08184783 0.05869565]\n",
      "SP_EM: [0.         0.10652174 0.26521739 0.44130435 0.52173913]\n"
     ]
    }
   ],
   "source": [
    "# KG-T5-TAGME\n",
    "evaluate(dataset = 'wikimultihop', retriever = 'kg-t5_test_docs_graph', k = 30)"
   ]
  },
  {
   "cell_type": "code",
   "execution_count": 91,
   "id": "c734c0a7-c5c0-439f-b789-70bd456764bb",
   "metadata": {},
   "outputs": [
    {
     "name": "stdout",
     "output_type": "stream",
     "text": [
      "Acc: 0.6244897959183674\n",
      "F1: 0.5244906680620967\n",
      "EM: 0.37551020408163266\n",
      "Recall: [0.20816327 0.3872449  0.55697279 0.70748299 0.76411565]\n",
      "Precision: [0.47959184 0.17714286 0.12897959 0.08306122 0.05979592]\n",
      "SP_EM: [0.         0.09795918 0.25102041 0.44285714 0.52857143]\n"
     ]
    }
   ],
   "source": [
    "# KG-LLaMA-TAGME\n",
    "evaluate(dataset = 'wikimultihop', retriever = 'kg-llama_test_docs_graph', k = 30)"
   ]
  },
  {
   "cell_type": "code",
   "execution_count": 92,
   "id": "5756506e-bc9b-4a62-adde-858e854ef70a",
   "metadata": {},
   "outputs": [
    {
     "name": "stdout",
     "output_type": "stream",
     "text": [
      "Acc: 0.6094069529652352\n",
      "F1: 0.5128668990632181\n",
      "EM: 0.3721881390593047\n",
      "Recall: [0.2091002  0.37372188 0.55351057 0.71404226 0.767212  ]\n",
      "Precision: [0.48261759 0.17791411 0.13251534 0.08691207 0.06237219]\n",
      "SP_EM: [0.         0.07361963 0.2208589  0.44989775 0.53578732]\n"
     ]
    }
   ],
   "source": [
    "# KG-MDR-TAGME\n",
    "evaluate(dataset = 'wikimultihop', retriever = 'kg-mdr_test_docs_graph', k = 30)"
   ]
  },
  {
   "cell_type": "code",
   "execution_count": 134,
   "id": "d9092c5f-8580-44e2-bbdd-99e76dec213a",
   "metadata": {},
   "outputs": [
    {
     "name": "stdout",
     "output_type": "stream",
     "text": [
      "Acc: 0.6686746987951807\n",
      "F1: 0.5431234205330591\n",
      "EM: 0.39759036144578314\n",
      "Recall: [0.20732932 0.43172691 0.61161312 0.72991968 0.78212851]\n",
      "Precision: [0.47791165 0.19879518 0.14016064 0.08473896 0.0607095 ]\n",
      "SP_EM: [0.         0.17871486 0.35341365 0.49196787 0.56024096]\n"
     ]
    }
   ],
   "source": [
    "# llm-mdr\n",
    "evaluate(dataset = 'wikimultihop', retriever = 'llm-mdr', k = 30)"
   ]
  },
  {
   "cell_type": "code",
   "execution_count": 145,
   "id": "21df3778-8348-4010-85d5-8879c80f0a08",
   "metadata": {},
   "outputs": [
    {
     "name": "stdout",
     "output_type": "stream",
     "text": [
      "Acc: 0.6161616161616161\n",
      "F1: 0.49391055633479874\n",
      "EM: 0.3616161616161616\n",
      "Recall: [0.20757576 0.34006734 0.46481481 0.61902357 0.67558923]\n",
      "Precision: [0.47878788 0.15878788 0.10989899 0.07474747 0.05434343]\n",
      "SP_EM: [0.         0.05858586 0.14343434 0.31515152 0.39393939]\n"
     ]
    }
   ],
   "source": [
    "# kg-chatgpt\n",
    "evaluate(dataset = 'wikimultihop', retriever = 'kg-chatgpt_test_docs_graph', k = 30)"
   ]
  },
  {
   "cell_type": "markdown",
   "id": "a314216b-8111-48ad-b506-2a4a0f24d123",
   "metadata": {},
   "source": [
    "# MuSiQue"
   ]
  },
  {
   "cell_type": "code",
   "execution_count": 107,
   "id": "c7106075-bdd9-45cf-8bc6-33986ecc90ac",
   "metadata": {},
   "outputs": [
    {
     "name": "stdout",
     "output_type": "stream",
     "text": [
      "Acc: 0.304\n",
      "F1: 0.10576349206349206\n",
      "EM: 0.046\n"
     ]
    }
   ],
   "source": [
    "# no\n",
    "evaluate(dataset = 'musique', retriever = 'no', k = 30)"
   ]
  },
  {
   "cell_type": "code",
   "execution_count": 108,
   "id": "0ef5f30f-c8b0-4542-9d64-9a56c21db55e",
   "metadata": {},
   "outputs": [
    {
     "name": "stdout",
     "output_type": "stream",
     "text": [
      "Acc: 0.57\n",
      "F1: 0.47753571004159245\n",
      "EM: 0.306\n"
     ]
    }
   ],
   "source": [
    "# golden\n",
    "evaluate(dataset = 'musique', retriever = 'golden', k = 30)"
   ]
  },
  {
   "cell_type": "code",
   "execution_count": 109,
   "id": "d149e1c5-f751-4cef-85f6-800d74e03f8d",
   "metadata": {},
   "outputs": [
    {
     "name": "stdout",
     "output_type": "stream",
     "text": [
      "Acc: 0.4470338983050847\n",
      "F1: 0.30036369136568536\n",
      "EM: 0.1885593220338983\n",
      "Recall: [0.01483051 0.09004237 0.22033898 0.64724576 0.64936441]\n",
      "Precision: [0.02754237 0.03474576 0.04237288 0.06324153 0.04223164]\n",
      "SP_EM: [0.00211864 0.01483051 0.05084746 0.42584746 0.4279661 ]\n"
     ]
    }
   ],
   "source": [
    "# knn\n",
    "evaluate(dataset = 'musique', retriever = 'knn', k = 30)"
   ]
  },
  {
   "cell_type": "code",
   "execution_count": 110,
   "id": "48a530a0-6c1c-4cc9-82f7-121157869390",
   "metadata": {},
   "outputs": [
    {
     "name": "stdout",
     "output_type": "stream",
     "text": [
      "Acc: 0.444672131147541\n",
      "F1: 0.3114585725000382\n",
      "EM: 0.21106557377049182\n",
      "Recall: [0.08094262 0.31659836 0.43545082 0.53278689 0.5942623 ]\n",
      "Precision: [0.15778689 0.125      0.08565574 0.05204918 0.0385929 ]\n",
      "SP_EM: [0.00409836 0.09016393 0.18647541 0.29713115 0.36680328]\n"
     ]
    }
   ],
   "source": [
    "# bm25\n",
    "evaluate(dataset = 'musique', retriever = 'bm25', k = 30)"
   ]
  },
  {
   "cell_type": "code",
   "execution_count": 111,
   "id": "79d488a3-79fd-45a7-a120-d6d58c43979a",
   "metadata": {},
   "outputs": [
    {
     "name": "stdout",
     "output_type": "stream",
     "text": [
      "Acc: 0.4439918533604888\n",
      "F1: 0.32499073467565137\n",
      "EM: 0.2158859470468432\n",
      "Recall: [0.1089613  0.44806517 0.59470468 0.70672098 0.75254582]\n",
      "Precision: [0.20773931 0.17433809 0.11588595 0.06904277 0.04881195]\n",
      "SP_EM: [0.0101833  0.18126273 0.34215886 0.49490835 0.56211813]\n"
     ]
    }
   ],
   "source": [
    "# tf-idf\n",
    "evaluate(dataset = 'musique', retriever = 'tf-idf', k = 30)"
   ]
  },
  {
   "cell_type": "code",
   "execution_count": 112,
   "id": "7fa177f6-84fd-4dea-bfaf-7cd5f372b221",
   "metadata": {},
   "outputs": [
    {
     "name": "stdout",
     "output_type": "stream",
     "text": [
      "Acc: 0.48582995951417\n",
      "F1: 0.3671106165539364\n",
      "EM: 0.22874493927125505\n",
      "Recall: [0.06477733 0.22469636 0.38157895 0.4888664  0.54048583]\n",
      "Precision: [0.12550607 0.08825911 0.07510121 0.04797571 0.0354251 ]\n",
      "SP_EM: [0.00404858 0.0465587  0.16396761 0.26315789 0.31174089]\n"
     ]
    }
   ],
   "source": [
    "# mdr\n",
    "evaluate(dataset = 'musique', retriever = 'mhop', k = 30)"
   ]
  },
  {
   "cell_type": "code",
   "execution_count": 114,
   "id": "0277c80c-d28f-4841-8fe9-821b12d00d58",
   "metadata": {},
   "outputs": [
    {
     "name": "stdout",
     "output_type": "stream",
     "text": [
      "Acc: 0.4426559356136821\n",
      "F1: 0.3163832255381551\n",
      "EM: 0.20321931589537223\n",
      "Recall: [0.09054326 0.33903421 0.45875252 0.57344064 0.65392354]\n",
      "Precision: [0.17907445 0.13360161 0.08993964 0.05603622 0.04265594]\n",
      "SP_EM: [0.00201207 0.06036217 0.18511066 0.32796781 0.44064386]\n"
     ]
    }
   ],
   "source": [
    "# dpr\n",
    "evaluate(dataset = 'musique', retriever = 'dpr', k = 30)"
   ]
  },
  {
   "cell_type": "code",
   "execution_count": 115,
   "id": "518710f0-d2ea-4a52-9c31-7f9b9a4bc5ea",
   "metadata": {},
   "outputs": [
    {
     "name": "stdout",
     "output_type": "stream",
     "text": [
      "Acc: 0.5194274028629857\n",
      "F1: 0.4198061117945636\n",
      "EM: 0.2883435582822086\n",
      "Recall: [0.11145194 0.34253579 0.51431493 0.63496933 0.69222904]\n",
      "Precision: [0.21267894 0.13374233 0.10102249 0.06206544 0.04505794]\n",
      "SP_EM: [0.01022495 0.13496933 0.3006135  0.44171779 0.52351738]\n"
     ]
    }
   ],
   "source": [
    "# t5\n",
    "evaluate(dataset = 'musique', retriever = 't5', k = 30)"
   ]
  },
  {
   "cell_type": "code",
   "execution_count": 116,
   "id": "20286804-b483-43ec-b256-21cabf62672b",
   "metadata": {},
   "outputs": [
    {
     "name": "stdout",
     "output_type": "stream",
     "text": [
      "Acc: 0.5223577235772358\n",
      "F1: 0.4124831011488113\n",
      "EM: 0.2764227642276423\n",
      "Recall: [0.10873984 0.29776423 0.48780488 0.62703252 0.70121951]\n",
      "Precision: [0.20731707 0.11666667 0.09573171 0.06168699 0.04586721]\n",
      "SP_EM: [0.0101626  0.10365854 0.26829268 0.42276423 0.51626016]\n"
     ]
    }
   ],
   "source": [
    "# llama\n",
    "evaluate(dataset = 'musique', retriever = 'llama', k = 30)"
   ]
  },
  {
   "cell_type": "code",
   "execution_count": 130,
   "id": "8b165a9d-03d9-4072-a572-536f7e745910",
   "metadata": {},
   "outputs": [
    {
     "name": "stdout",
     "output_type": "stream",
     "text": [
      "Acc: 0.44672131147540983\n",
      "F1: 0.32895686749230624\n",
      "EM: 0.2192622950819672\n",
      "Recall: [0.10758197 0.44672131 0.5932377  0.71618852 0.75922131]\n",
      "Precision: [0.20491803 0.17377049 0.11557377 0.06977459 0.04931694]\n",
      "SP_EM: [0.0102459  0.17622951 0.33811475 0.50819672 0.57581967]\n"
     ]
    }
   ],
   "source": [
    "# kg\n",
    "evaluate(dataset = 'musique', retriever = 'kg_test_docs_graph', k = 30)"
   ]
  },
  {
   "cell_type": "code",
   "execution_count": 118,
   "id": "a652f653-6e55-4447-bf67-7bbded4bed63",
   "metadata": {},
   "outputs": [
    {
     "name": "stdout",
     "output_type": "stream",
     "text": [
      "Acc: 0.5050505050505051\n",
      "F1: 0.4580751492516199\n",
      "EM: 0.32323232323232326\n",
      "Recall: [0.09090909 0.28787879 0.52020202 0.68181818 0.73232323]\n",
      "Precision: [0.18181818 0.11515152 0.1        0.06565657 0.04713805]\n",
      "SP_EM: [0.         0.07070707 0.27272727 0.49494949 0.55555556]\n"
     ]
    }
   ],
   "source": [
    "# kg-t5\n",
    "evaluate(dataset = 'musique', retriever = 'kg-t5_graph_tagme_0.9', k = 30)"
   ]
  },
  {
   "cell_type": "code",
   "execution_count": 131,
   "id": "c07b8846-5ca3-424e-ace4-cb103cfd26b4",
   "metadata": {},
   "outputs": [
    {
     "name": "stdout",
     "output_type": "stream",
     "text": [
      "Acc: 0.5122448979591837\n",
      "F1: 0.41105783172409827\n",
      "EM: 0.27755102040816326\n",
      "Recall: [0.10714286 0.28469388 0.50204082 0.64591837 0.69795918]\n",
      "Precision: [0.20408163 0.11061224 0.09836735 0.06316327 0.04537415]\n",
      "SP_EM: [0.01020408 0.10204082 0.29591837 0.45510204 0.52040816]\n"
     ]
    }
   ],
   "source": [
    "# kg-mdr\n",
    "evaluate(dataset = 'musique', retriever = 'kg-mdr_test_docs_graph', k = 30)"
   ]
  },
  {
   "cell_type": "code",
   "execution_count": 142,
   "id": "30762870-b919-4ade-811f-816e8e22f867",
   "metadata": {},
   "outputs": [
    {
     "name": "stdout",
     "output_type": "stream",
     "text": [
      "Acc: 0.5060728744939271\n",
      "F1: 0.3865982526377858\n",
      "EM: 0.2692307692307692\n",
      "Recall: [0.10931174 0.32287449 0.51012146 0.6305668  0.68016194]\n",
      "Precision: [0.20850202 0.12550607 0.09959514 0.06163968 0.04433198]\n",
      "SP_EM: [0.01012146 0.10526316 0.27732794 0.41295547 0.47773279]\n"
     ]
    }
   ],
   "source": [
    "# kg-chatgpt\n",
    "evaluate(dataset = 'musique', retriever = 'kg-chatgpt_test_docs_graph', k = 30)"
   ]
  },
  {
   "cell_type": "code",
   "execution_count": 132,
   "id": "7fef995d-4cc8-4129-b341-1889f8d401c2",
   "metadata": {},
   "outputs": [
    {
     "name": "stdout",
     "output_type": "stream",
     "text": [
      "Acc: 0.4514038876889849\n",
      "F1: 0.34211078877465667\n",
      "EM: 0.22462203023758098\n",
      "Recall: [0.10583153 0.45140389 0.61771058 0.73326134 0.77645788]\n",
      "Precision: [0.20086393 0.17537797 0.11987041 0.0712743  0.05017999]\n",
      "SP_EM: [0.01079914 0.18790497 0.39308855 0.55507559 0.61987041]\n"
     ]
    }
   ],
   "source": [
    "# IRCoT\n",
    "evaluate(dataset = 'musique', retriever = 'ircot', k = 30)"
   ]
  },
  {
   "cell_type": "code",
   "execution_count": 128,
   "id": "c9f7a9af-28c2-4f16-af71-efceac2c0430",
   "metadata": {},
   "outputs": [
    {
     "name": "stdout",
     "output_type": "stream",
     "text": [
      "Acc: 0.5172413793103449\n",
      "F1: 0.40851251189516313\n",
      "EM: 0.281947261663286\n",
      "Recall: [0.10851927 0.29006085 0.47464503 0.62880325 0.67951318]\n",
      "Precision: [0.20689655 0.11237323 0.09290061 0.06146045 0.04415145]\n",
      "SP_EM: [0.01014199 0.10953347 0.26369168 0.43002028 0.48681542]\n"
     ]
    }
   ],
   "source": [
    "# llm-mdr\n",
    "evaluate(dataset = 'musique', retriever = 'llm-mdr', k = 30)"
   ]
  }
 ],
 "metadata": {
  "kernelspec": {
   "display_name": "Python 3 (ipykernel)",
   "language": "python",
   "name": "python3"
  },
  "language_info": {
   "codemirror_mode": {
    "name": "ipython",
    "version": 3
   },
   "file_extension": ".py",
   "mimetype": "text/x-python",
   "name": "python",
   "nbconvert_exporter": "python",
   "pygments_lexer": "ipython3",
   "version": "3.10.11"
  }
 },
 "nbformat": 4,
 "nbformat_minor": 5
}
