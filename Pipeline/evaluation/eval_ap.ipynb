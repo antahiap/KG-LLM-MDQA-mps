{
 "cells": [
  {
   "cell_type": "code",
   "execution_count": 1,
   "id": "0ca10878-f596-4c47-9b84-72ee067f9ad1",
   "metadata": {},
   "outputs": [],
   "source": [
    "from evaluation import f1_score, exact_match_score, f1, ems\n",
    "import pickle as pkl\n",
    "import json\n",
    "import numpy as np\n",
    "import itertools"
   ]
  },
  {
   "cell_type": "code",
   "execution_count": 2,
   "id": "14b7ae35-d0b3-4c07-86a2-2c10e39c6955",
   "metadata": {},
   "outputs": [],
   "source": [
    "def evaluate(dataset, retriever, k = None, round = 5, topks = [1, 5, 10, 20, 30], k_emb = 15):    \n",
    "    if retriever != 'knn':\n",
    "        res = json.load(open('../result/{}/{}_{}.json'.format(dataset, retriever, k), 'rb'))\n",
    "    else:\n",
    "        res = json.load(open('../result/{}/{}_{}_{}.json'.format(dataset, retriever, k_emb, k), 'rb'))\n",
    "    \n",
    "    \n",
    "    filter_res = [r for r in res if r['prediction'] != 'System mistake']\n",
    "    \n",
    "    f1s, emss, accs = [], [], []\n",
    "    \n",
    "    if retriever not in ['golden', 'no']:\n",
    "        recall, precision, sp_em = [], [], []\n",
    "    \n",
    "    for r in filter_res:\n",
    "        accs.append(('1' in r['grade'])*1.0)\n",
    "        \n",
    "        if dataset in ['hotpotqa', '2WikiMQA', 'musique']:\n",
    "            f1s.append(f1_score(r['prediction'], r['answer']))\n",
    "            emss.append(exact_match_score(r['prediction'], r['answer']))\n",
    "            \n",
    "        elif dataset in ['iirc']:\n",
    "            f1s.append(f1(r['prediction'], r['answer']))\n",
    "            emss.append(ems(r['prediction'], r['answer']))\n",
    "        \n",
    "        r['corpus'] = list(itertools.chain(*[_.split('\\n') for _ in r['corpus']]))\n",
    "        if retriever not in ['golden', 'no']:\n",
    "            evi = set([_[1] for _ in r['supports']])\n",
    "            \n",
    "            tmp_recall = []\n",
    "            tmp_precision = []    \n",
    "            tmp_sp_em = []\n",
    "            for kk in topks:\n",
    "                if kk <= k:\n",
    "                    tmp = set(r['corpus'][:kk])\n",
    "\n",
    "                    tmp_recall.append(len(evi.intersection(tmp))/len(evi))\n",
    "                    tmp_precision.append(len(evi.intersection(tmp))/kk)\n",
    "                    \n",
    "                    if evi.issubset(tmp):\n",
    "                        tmp_sp_em.append(1)\n",
    "                    else:\n",
    "                        tmp_sp_em.append(0)\n",
    "                \n",
    "            \n",
    "            recall.append(tmp_recall)\n",
    "            precision.append(tmp_precision)\n",
    "            sp_em.append(tmp_sp_em)\n",
    "\n",
    "    \n",
    "    print('Acc:', np.mean(accs))\n",
    "    print('F1:', np.mean(f1s))\n",
    "    print('EM:', np.mean(emss))\n",
    "    \n",
    "\n",
    "    if retriever not in ['golden', 'no']:\n",
    "        print('Recall:', np.mean(np.array(recall), axis = 0))\n",
    "        print('Precision:', np.mean(np.array(precision), axis = 0))\n",
    "        print('SP_EM:', np.mean(np.array(sp_em), axis = 0))\n",
    "\n",
    "evaluate(dataset = '2WikiMQA', retriever = 'Golden', k = 30)"
   ]
  },
  {
   "cell_type": "markdown",
   "id": "937392bc-227e-401b-9d3d-8a829a0dbf3e",
   "metadata": {},
   "source": [
    "# IIRC"
   ]
  },
  {
   "cell_type": "code",
   "execution_count": null,
   "id": "153b8935-d0f5-4893-859e-2c48199c494f",
   "metadata": {},
   "outputs": [],
   "source": [
    "# Golden\n",
    "evaluate(dataset = 'iirc', retriever = 'golden', k = 30)"
   ]
  },
  {
   "cell_type": "code",
   "execution_count": null,
   "id": "52897881-0224-4807-a9e4-d424d7ef4bb4",
   "metadata": {},
   "outputs": [],
   "source": [
    "# No\n",
    "evaluate(dataset = 'iirc', retriever = 'no', k = 30)"
   ]
  },
  {
   "cell_type": "code",
   "execution_count": null,
   "id": "4c7a12a0-9c42-488c-ab81-98f1289de328",
   "metadata": {},
   "outputs": [],
   "source": [
    "# KNN\n",
    "evaluate(dataset = 'iirc', retriever = 'knn', k = 30, k_emb = 15)"
   ]
  },
  {
   "cell_type": "code",
   "execution_count": null,
   "id": "952b35a0-b4cd-4dd0-a547-7e11c4acec41",
   "metadata": {},
   "outputs": [],
   "source": [
    "# Tf-IDF\n",
    "evaluate(dataset = 'iirc', retriever = 'tf-idf', k = 30)"
   ]
  },
  {
   "cell_type": "code",
   "execution_count": null,
   "id": "62e6b418-088f-48e8-9788-80b7ee99e276",
   "metadata": {},
   "outputs": [],
   "source": [
    "# Bm25\n",
    "evaluate(dataset = 'iirc', retriever = 'bm25', k = 30)"
   ]
  },
  {
   "cell_type": "code",
   "execution_count": null,
   "id": "49ebfa69-2bd2-4f93-aa8c-a1350c4c6533",
   "metadata": {},
   "outputs": [],
   "source": [
    "# KG\n",
    "evaluate(dataset = 'iirc', retriever = 'kg_test_docs_graph', k = 30)"
   ]
  },
  {
   "cell_type": "code",
   "execution_count": null,
   "id": "39bbed06-eed0-41af-b277-b738994b6067",
   "metadata": {},
   "outputs": [],
   "source": [
    "# MDR\n",
    "evaluate(dataset = 'iirc', retriever = 'mhop', k = 30)"
   ]
  },
  {
   "cell_type": "code",
   "execution_count": null,
   "id": "ea9a525b-5158-4b98-888c-affd477718d8",
   "metadata": {},
   "outputs": [],
   "source": [
    "# LLaMA\n",
    "evaluate(dataset = 'iirc', retriever = 'llama', k = 30)"
   ]
  },
  {
   "cell_type": "code",
   "execution_count": null,
   "id": "adb493bd-cf10-4669-9ab3-bbe5affe94e3",
   "metadata": {},
   "outputs": [],
   "source": [
    "# DPR\n",
    "evaluate(dataset = 'iirc', retriever = 'dpr', k = 30)"
   ]
  },
  {
   "cell_type": "code",
   "execution_count": null,
   "id": "1a081df8-2f83-480f-a7c6-1bd009fb5b46",
   "metadata": {},
   "outputs": [],
   "source": [
    "# T5\n",
    "evaluate(dataset = 'iirc', retriever = 't5', k = 30)"
   ]
  },
  {
   "cell_type": "code",
   "execution_count": null,
   "id": "09a7fa69-7efa-4aba-adff-3df5271db6eb",
   "metadata": {},
   "outputs": [],
   "source": [
    "# KG-T5\n",
    "evaluate(dataset = 'iirc', retriever = 'kg-t5_test_docs_graph', k = 30)"
   ]
  },
  {
   "cell_type": "code",
   "execution_count": null,
   "id": "5980f156-ae49-468f-8bec-4ad7783dc6ed",
   "metadata": {},
   "outputs": [],
   "source": [
    "# KG-LLaMA\n",
    "evaluate(dataset = 'iirc', retriever = 'kg-llama_test_docs_graph', k = 30)"
   ]
  },
  {
   "cell_type": "code",
   "execution_count": null,
   "id": "c6888155-445f-40c5-b43b-28d6805130e1",
   "metadata": {},
   "outputs": [],
   "source": [
    "# IRCoT\n",
    "evaluate(dataset = 'iirc', retriever = 'ircot', k = 30)"
   ]
  },
  {
   "cell_type": "code",
   "execution_count": null,
   "id": "b29f9afc-59eb-4d70-98e7-6e3f89958796",
   "metadata": {},
   "outputs": [],
   "source": [
    "# KG-MDR\n",
    "evaluate(dataset = 'iirc', retriever = 'kg-mdr_test_docs_graph', k = 30)"
   ]
  },
  {
   "cell_type": "code",
   "execution_count": null,
   "id": "5bdeaf16-cf21-4e4f-b50e-53c8f3fa7e38",
   "metadata": {},
   "outputs": [],
   "source": [
    "# LLM-MDR\n",
    "evaluate(dataset = 'iirc', retriever = 'llm-mdr', k = 30)"
   ]
  },
  {
   "cell_type": "markdown",
   "id": "383aace4-6b1b-4b57-8e66-b7d66a893da6",
   "metadata": {},
   "source": [
    "# HotpotQA"
   ]
  },
  {
   "cell_type": "code",
   "execution_count": null,
   "id": "b56f961a-debc-4ed9-ac6e-ddf5a7bc5432",
   "metadata": {},
   "outputs": [],
   "source": [
    "# Golden\n",
    "evaluate(dataset = 'hotpotqa', retriever = 'golden', k = 30)"
   ]
  },
  {
   "cell_type": "code",
   "execution_count": null,
   "id": "267c9bf0-cb4e-4f06-bb26-e054f2ba0b52",
   "metadata": {},
   "outputs": [],
   "source": [
    "# No\n",
    "evaluate(dataset = 'hotpotqa', retriever = 'no', k = 30)"
   ]
  },
  {
   "cell_type": "code",
   "execution_count": null,
   "id": "041f7af9-7b3b-4d46-9dfb-e5d272d78248",
   "metadata": {},
   "outputs": [],
   "source": [
    "# bm25\n",
    "evaluate(dataset = 'hotpotqa', retriever = 'bm25', k = 30)"
   ]
  },
  {
   "cell_type": "code",
   "execution_count": null,
   "id": "11f58573-8cf8-479c-9b45-683ac0e01b50",
   "metadata": {},
   "outputs": [],
   "source": [
    "# TF-IDF\n",
    "evaluate(dataset = 'hotpotqa', retriever = 'tf-idf', k = 30)"
   ]
  },
  {
   "cell_type": "code",
   "execution_count": null,
   "id": "718133e8-9b72-4ad8-a205-4f1601d45b18",
   "metadata": {},
   "outputs": [],
   "source": [
    "# KNN\n",
    "evaluate(dataset = 'hotpotqa', retriever = 'knn', k = 30, k_emb = 15)"
   ]
  },
  {
   "cell_type": "code",
   "execution_count": null,
   "id": "2682e391-ec75-4dd9-8da0-0fffd200ed3a",
   "metadata": {},
   "outputs": [],
   "source": [
    "# MDR\n",
    "evaluate(dataset = 'hotpotqa', retriever = 'mhop', k = 30)"
   ]
  },
  {
   "cell_type": "code",
   "execution_count": null,
   "id": "d27772ef-3074-4d83-ac26-c930b154e89a",
   "metadata": {},
   "outputs": [],
   "source": [
    "# DPR\n",
    "evaluate(dataset = 'hotpotqa', retriever = 'dpr', k = 30)"
   ]
  },
  {
   "cell_type": "code",
   "execution_count": null,
   "id": "7a8b276d-fb53-4784-8da8-6883c8ece2e3",
   "metadata": {},
   "outputs": [],
   "source": [
    "# LLaMA\n",
    "evaluate(dataset = 'hotpotqa', retriever = 'llama', k = 30)"
   ]
  },
  {
   "cell_type": "code",
   "execution_count": null,
   "id": "a2c032b0-321e-4b9d-b33e-7cd0786dc656",
   "metadata": {},
   "outputs": [],
   "source": [
    "# T5\n",
    "evaluate(dataset = 'hotpotqa', retriever = 't5', k = 30)"
   ]
  },
  {
   "cell_type": "code",
   "execution_count": null,
   "id": "5129c5e3-be95-4da8-8a2b-2f6430ffaaf5",
   "metadata": {},
   "outputs": [],
   "source": [
    "# T5-KG-TAGME\n",
    "evaluate(dataset = 'hotpotqa', retriever = 'kg-t5_graph_tagme_0.8', k = 30)"
   ]
  },
  {
   "cell_type": "code",
   "execution_count": null,
   "id": "8ab829ac-9656-4165-bffc-6e1ff56218b9",
   "metadata": {},
   "outputs": [],
   "source": [
    "# LLaMA-KG-TAGME\n",
    "evaluate(dataset = 'hotpotqa', retriever = 'kg-llama_test_docs_graph', k = 30)"
   ]
  },
  {
   "cell_type": "code",
   "execution_count": null,
   "id": "0bc32b2a-6acf-4d80-9f53-5f31658bcfaa",
   "metadata": {},
   "outputs": [],
   "source": [
    "# MDR-KG-TAGME\n",
    "evaluate(dataset = 'hotpotqa', retriever = 'kg-mdr_test_docs_graph', k = 30)"
   ]
  },
  {
   "cell_type": "code",
   "execution_count": null,
   "id": "84b64eaa-9563-44a8-bf2d-b57dcaf999ec",
   "metadata": {},
   "outputs": [],
   "source": [
    "# IRCOT\n",
    "evaluate(dataset = 'hotpotqa', retriever = 'ircot', k = 30)"
   ]
  },
  {
   "cell_type": "code",
   "execution_count": null,
   "id": "563a8e10-92eb-49f5-91f1-f9421ec3385b",
   "metadata": {},
   "outputs": [],
   "source": [
    "# llm-mdr\n",
    "evaluate(dataset = 'hotpotqa', retriever = 'llm-mdr', k = 30)"
   ]
  },
  {
   "cell_type": "code",
   "execution_count": null,
   "id": "61cb9c1c-54b8-446b-a3dd-defd8c89df82",
   "metadata": {},
   "outputs": [],
   "source": [
    "# kg-chatgpt\n",
    "evaluate(dataset = 'hotpotqa', retriever = 'kg-chatgpt_test_docs_graph', k = 30)"
   ]
  },
  {
   "cell_type": "markdown",
   "id": "d946ffaa-1d90-4909-9676-bc6e9f188d42",
   "metadata": {},
   "source": [
    "# 2WikiMQA(Wikimultihop)"
   ]
  },
  {
   "cell_type": "code",
   "execution_count": 4,
   "id": "617c085c-65f7-481c-a59d-33f2cd0951d4",
   "metadata": {},
   "outputs": [
    {
     "name": "stdout",
     "output_type": "stream",
     "text": [
      "Acc: 0.812\n",
      "F1: 0.6942132756132755\n",
      "EM: 0.538\n",
      "Recall: [0.44316667 0.996      0.996      0.996      0.996     ]\n",
      "Precision: [0.996  0.486  0.243  0.1215 0.081 ]\n",
      "SP_EM: [0.    0.992 0.992 0.992 0.992]\n"
     ]
    }
   ],
   "source": [
    "# Golden\n",
    "evaluate(dataset = '2WikiMQA', retriever = 'Golden', k = 30)"
   ]
  },
  {
   "cell_type": "code",
   "execution_count": 5,
   "id": "f7ab410e-dc39-441d-add3-5b2382f519ca",
   "metadata": {},
   "outputs": [
    {
     "name": "stdout",
     "output_type": "stream",
     "text": [
      "Acc: 0.358\n",
      "F1: 0.3172920634920635\n",
      "EM: 0.254\n"
     ]
    }
   ],
   "source": [
    "# No\n",
    "evaluate(dataset = '2WikiMQA', retriever = 'no', k = 30)"
   ]
  },
  {
   "cell_type": "code",
   "execution_count": 7,
   "id": "4fdc3c8f-e258-4416-9a0c-07b0bbaa0569",
   "metadata": {},
   "outputs": [
    {
     "name": "stdout",
     "output_type": "stream",
     "text": [
      "Acc: 0.704\n",
      "F1: 0.5824903539022184\n",
      "EM: 0.44\n",
      "Recall: [0.15216667 0.39133333 0.56833333 0.684      0.735     ]\n",
      "Precision: [0.336      0.1748     0.1296     0.0789     0.05666667]\n",
      "SP_EM: [0.    0.14  0.32  0.444 0.5  ]\n"
     ]
    }
   ],
   "source": [
    "# MDR\n",
    "evaluate(dataset = '2WikiMQA', retriever = 'MDR', k = 30)"
   ]
  },
  {
   "cell_type": "code",
   "execution_count": 10,
   "id": "0ab19d61-46be-4cb8-92ed-d58586e47b26",
   "metadata": {},
   "outputs": [
    {
     "name": "stdout",
     "output_type": "stream",
     "text": [
      "Acc: 0.718\n",
      "F1: 0.6077136974136974\n",
      "EM: 0.478\n",
      "Recall: [0.166      0.48266667 0.6685     0.806      0.8805    ]\n",
      "Precision: [0.372  0.2228 0.1566 0.0959 0.0708]\n",
      "SP_EM: [0.    0.196 0.422 0.632 0.762]\n"
     ]
    }
   ],
   "source": [
    "# DPR\n",
    "evaluate(dataset = '2WikiMQA', retriever = 'DPR', k = 30)"
   ]
  },
  {
   "cell_type": "code",
   "execution_count": 12,
   "id": "1bbf2520-ae5b-4564-b321-af81d40b0357",
   "metadata": {},
   "outputs": [
    {
     "name": "stdout",
     "output_type": "stream",
     "text": [
      "Acc: 0.596\n",
      "F1: 0.5079017205017206\n",
      "EM: 0.4\n",
      "Recall: [0.0075     0.0645     0.169      0.66016667 0.68266667]\n",
      "Precision: [0.018      0.0324     0.0414     0.0778     0.05393333]\n",
      "SP_EM: [0.    0.    0.02  0.392 0.408]\n"
     ]
    }
   ],
   "source": [
    "# KNN\n",
    "evaluate(dataset = '2WikiMQA', retriever = 'knn', k = 30, k_emb = 15)"
   ]
  },
  {
   "cell_type": "code",
   "execution_count": 11,
   "id": "8872f45e-afc6-4d25-a0b7-ac468b0d77e9",
   "metadata": {},
   "outputs": [
    {
     "name": "stdout",
     "output_type": "stream",
     "text": [
      "Acc: 0.582\n",
      "F1: 0.48706925296925296\n",
      "EM: 0.398\n",
      "Recall: [0.1375     0.40816667 0.50266667 0.58816667 0.62416667]\n",
      "Precision: [0.33       0.192      0.1186     0.0706     0.05026667]\n",
      "SP_EM: [0.    0.152 0.244 0.328 0.364]\n"
     ]
    }
   ],
   "source": [
    "# bm25\n",
    "evaluate(dataset = '2WikiMQA', retriever = 'bm25', k = 30)"
   ]
  },
  {
   "cell_type": "code",
   "execution_count": 13,
   "id": "e3842b11-2e56-4586-8f0a-f10c0fee38d7",
   "metadata": {},
   "outputs": [
    {
     "name": "stdout",
     "output_type": "stream",
     "text": [
      "Acc: 0.642\n",
      "F1: 0.5404131313131313\n",
      "EM: 0.424\n",
      "Recall: [0.208      0.52416667 0.61216667 0.69566667 0.73666667]\n",
      "Precision: [0.48   0.244  0.1434 0.0825 0.0588]\n",
      "SP_EM: [0.    0.236 0.334 0.442 0.5  ]\n"
     ]
    }
   ],
   "source": [
    "# TF-IDF\n",
    "evaluate(dataset = '2WikiMQA', retriever = 'tf-idf', k = 30)"
   ]
  },
  {
   "cell_type": "code",
   "execution_count": null,
   "id": "79f9ca37-e33e-4891-802c-0a04d6dd3c23",
   "metadata": {},
   "outputs": [],
   "source": [
    "# LLaMA\n",
    "evaluate(dataset = '2WikiMQA', retriever = 'llama', k = 30)"
   ]
  },
  {
   "cell_type": "code",
   "execution_count": 14,
   "id": "42cc8991-ebd3-4a6a-a07d-560c8d92ade1",
   "metadata": {},
   "outputs": [
    {
     "name": "stdout",
     "output_type": "stream",
     "text": [
      "Acc: nan\n",
      "F1: nan\n",
      "EM: nan\n",
      "Recall: nan\n",
      "Precision: nan\n",
      "SP_EM: nan\n"
     ]
    }
   ],
   "source": [
    "# T5 \n",
    "evaluate(dataset = '2WikiMQA', retriever = 't5', k = 30)"
   ]
  },
  {
   "cell_type": "code",
   "execution_count": null,
   "id": "31f2585e-61e7-4425-a477-e5f8459abfb5",
   "metadata": {},
   "outputs": [],
   "source": [
    "# IRCoT\n",
    "evaluate(dataset = '2WikiMQA', retriever = 'ircot', k = 30)"
   ]
  },
  {
   "cell_type": "code",
   "execution_count": null,
   "id": "63c91933-ff3d-4910-895f-3e9625fc7a83",
   "metadata": {},
   "outputs": [],
   "source": [
    "# KG-T5-TAGME\n",
    "evaluate(dataset = '2WikiMQA', retriever = 'kg-t5_test_docs_graph', k = 30)"
   ]
  },
  {
   "cell_type": "code",
   "execution_count": null,
   "id": "c734c0a7-c5c0-439f-b789-70bd456764bb",
   "metadata": {},
   "outputs": [],
   "source": [
    "# KG-LLaMA-TAGME\n",
    "evaluate(dataset = '2WikiMQA', retriever = 'kg-llama_test_docs_graph', k = 30)"
   ]
  },
  {
   "cell_type": "code",
   "execution_count": null,
   "id": "5756506e-bc9b-4a62-adde-858e854ef70a",
   "metadata": {},
   "outputs": [],
   "source": [
    "# KG-MDR-TAGME\n",
    "evaluate(dataset = '2WikiMQA', retriever = 'kg-mdr_test_docs_graph', k = 30)"
   ]
  },
  {
   "cell_type": "code",
   "execution_count": null,
   "id": "d9092c5f-8580-44e2-bbdd-99e76dec213a",
   "metadata": {},
   "outputs": [],
   "source": [
    "# llm-mdr\n",
    "evaluate(dataset = '2WikiMQA', retriever = 'llm-mdr', k = 30)"
   ]
  },
  {
   "cell_type": "code",
   "execution_count": 15,
   "id": "21df3778-8348-4010-85d5-8879c80f0a08",
   "metadata": {},
   "outputs": [
    {
     "ename": "FileNotFoundError",
     "evalue": "[Errno 2] No such file or directory: '../result/2WikiMQA/kg-chatgpt_test_docs_graph_30.json'",
     "output_type": "error",
     "traceback": [
      "\u001b[0;31m---------------------------------------------------------------------------\u001b[0m",
      "\u001b[0;31mFileNotFoundError\u001b[0m                         Traceback (most recent call last)",
      "Cell \u001b[0;32mIn[15], line 2\u001b[0m\n\u001b[1;32m      1\u001b[0m \u001b[38;5;66;03m# kg-chatgpt\u001b[39;00m\n\u001b[0;32m----> 2\u001b[0m \u001b[43mevaluate\u001b[49m\u001b[43m(\u001b[49m\u001b[43mdataset\u001b[49m\u001b[43m \u001b[49m\u001b[38;5;241;43m=\u001b[39;49m\u001b[43m \u001b[49m\u001b[38;5;124;43m'\u001b[39;49m\u001b[38;5;124;43m2WikiMQA\u001b[39;49m\u001b[38;5;124;43m'\u001b[39;49m\u001b[43m,\u001b[49m\u001b[43m \u001b[49m\u001b[43mretriever\u001b[49m\u001b[43m \u001b[49m\u001b[38;5;241;43m=\u001b[39;49m\u001b[43m \u001b[49m\u001b[38;5;124;43m'\u001b[39;49m\u001b[38;5;124;43mkg-chatgpt_test_docs_graph\u001b[39;49m\u001b[38;5;124;43m'\u001b[39;49m\u001b[43m,\u001b[49m\u001b[43m \u001b[49m\u001b[43mk\u001b[49m\u001b[43m \u001b[49m\u001b[38;5;241;43m=\u001b[39;49m\u001b[43m \u001b[49m\u001b[38;5;241;43m30\u001b[39;49m\u001b[43m)\u001b[49m\n",
      "Cell \u001b[0;32mIn[2], line 3\u001b[0m, in \u001b[0;36mevaluate\u001b[0;34m(dataset, retriever, k, round, topks, k_emb)\u001b[0m\n\u001b[1;32m      1\u001b[0m \u001b[38;5;28;01mdef\u001b[39;00m \u001b[38;5;21mevaluate\u001b[39m(dataset, retriever, k \u001b[38;5;241m=\u001b[39m \u001b[38;5;28;01mNone\u001b[39;00m, \u001b[38;5;28mround\u001b[39m \u001b[38;5;241m=\u001b[39m \u001b[38;5;241m5\u001b[39m, topks \u001b[38;5;241m=\u001b[39m [\u001b[38;5;241m1\u001b[39m, \u001b[38;5;241m5\u001b[39m, \u001b[38;5;241m10\u001b[39m, \u001b[38;5;241m20\u001b[39m, \u001b[38;5;241m30\u001b[39m], k_emb \u001b[38;5;241m=\u001b[39m \u001b[38;5;241m15\u001b[39m):    \n\u001b[1;32m      2\u001b[0m     \u001b[38;5;28;01mif\u001b[39;00m retriever \u001b[38;5;241m!=\u001b[39m \u001b[38;5;124m'\u001b[39m\u001b[38;5;124mknn\u001b[39m\u001b[38;5;124m'\u001b[39m:\n\u001b[0;32m----> 3\u001b[0m         res \u001b[38;5;241m=\u001b[39m json\u001b[38;5;241m.\u001b[39mload(\u001b[38;5;28;43mopen\u001b[39;49m\u001b[43m(\u001b[49m\u001b[38;5;124;43m'\u001b[39;49m\u001b[38;5;124;43m../result/\u001b[39;49m\u001b[38;5;132;43;01m{}\u001b[39;49;00m\u001b[38;5;124;43m/\u001b[39;49m\u001b[38;5;132;43;01m{}\u001b[39;49;00m\u001b[38;5;124;43m_\u001b[39;49m\u001b[38;5;132;43;01m{}\u001b[39;49;00m\u001b[38;5;124;43m.json\u001b[39;49m\u001b[38;5;124;43m'\u001b[39;49m\u001b[38;5;241;43m.\u001b[39;49m\u001b[43mformat\u001b[49m\u001b[43m(\u001b[49m\u001b[43mdataset\u001b[49m\u001b[43m,\u001b[49m\u001b[43m \u001b[49m\u001b[43mretriever\u001b[49m\u001b[43m,\u001b[49m\u001b[43m \u001b[49m\u001b[43mk\u001b[49m\u001b[43m)\u001b[49m\u001b[43m,\u001b[49m\u001b[43m \u001b[49m\u001b[38;5;124;43m'\u001b[39;49m\u001b[38;5;124;43mrb\u001b[39;49m\u001b[38;5;124;43m'\u001b[39;49m\u001b[43m)\u001b[49m)\n\u001b[1;32m      4\u001b[0m     \u001b[38;5;28;01melse\u001b[39;00m:\n\u001b[1;32m      5\u001b[0m         res \u001b[38;5;241m=\u001b[39m json\u001b[38;5;241m.\u001b[39mload(\u001b[38;5;28mopen\u001b[39m(\u001b[38;5;124m'\u001b[39m\u001b[38;5;124m../result/\u001b[39m\u001b[38;5;132;01m{}\u001b[39;00m\u001b[38;5;124m/\u001b[39m\u001b[38;5;132;01m{}\u001b[39;00m\u001b[38;5;124m_\u001b[39m\u001b[38;5;132;01m{}\u001b[39;00m\u001b[38;5;124m_\u001b[39m\u001b[38;5;132;01m{}\u001b[39;00m\u001b[38;5;124m.json\u001b[39m\u001b[38;5;124m'\u001b[39m\u001b[38;5;241m.\u001b[39mformat(dataset, retriever, k_emb, k), \u001b[38;5;124m'\u001b[39m\u001b[38;5;124mrb\u001b[39m\u001b[38;5;124m'\u001b[39m))\n",
      "File \u001b[0;32m~/Repos/brox/KG-LLM-MDQA-ap/env-MDQA/lib/python3.10/site-packages/IPython/core/interactiveshell.py:324\u001b[0m, in \u001b[0;36m_modified_open\u001b[0;34m(file, *args, **kwargs)\u001b[0m\n\u001b[1;32m    317\u001b[0m \u001b[38;5;28;01mif\u001b[39;00m file \u001b[38;5;129;01min\u001b[39;00m {\u001b[38;5;241m0\u001b[39m, \u001b[38;5;241m1\u001b[39m, \u001b[38;5;241m2\u001b[39m}:\n\u001b[1;32m    318\u001b[0m     \u001b[38;5;28;01mraise\u001b[39;00m \u001b[38;5;167;01mValueError\u001b[39;00m(\n\u001b[1;32m    319\u001b[0m         \u001b[38;5;124mf\u001b[39m\u001b[38;5;124m\"\u001b[39m\u001b[38;5;124mIPython won\u001b[39m\u001b[38;5;124m'\u001b[39m\u001b[38;5;124mt let you open fd=\u001b[39m\u001b[38;5;132;01m{\u001b[39;00mfile\u001b[38;5;132;01m}\u001b[39;00m\u001b[38;5;124m by default \u001b[39m\u001b[38;5;124m\"\u001b[39m\n\u001b[1;32m    320\u001b[0m         \u001b[38;5;124m\"\u001b[39m\u001b[38;5;124mas it is likely to crash IPython. If you know what you are doing, \u001b[39m\u001b[38;5;124m\"\u001b[39m\n\u001b[1;32m    321\u001b[0m         \u001b[38;5;124m\"\u001b[39m\u001b[38;5;124myou can use builtins\u001b[39m\u001b[38;5;124m'\u001b[39m\u001b[38;5;124m open.\u001b[39m\u001b[38;5;124m\"\u001b[39m\n\u001b[1;32m    322\u001b[0m     )\n\u001b[0;32m--> 324\u001b[0m \u001b[38;5;28;01mreturn\u001b[39;00m \u001b[43mio_open\u001b[49m\u001b[43m(\u001b[49m\u001b[43mfile\u001b[49m\u001b[43m,\u001b[49m\u001b[43m \u001b[49m\u001b[38;5;241;43m*\u001b[39;49m\u001b[43margs\u001b[49m\u001b[43m,\u001b[49m\u001b[43m \u001b[49m\u001b[38;5;241;43m*\u001b[39;49m\u001b[38;5;241;43m*\u001b[39;49m\u001b[43mkwargs\u001b[49m\u001b[43m)\u001b[49m\n",
      "\u001b[0;31mFileNotFoundError\u001b[0m: [Errno 2] No such file or directory: '../result/2WikiMQA/kg-chatgpt_test_docs_graph_30.json'"
     ]
    }
   ],
   "source": [
    "# kg-chatgpt\n",
    "evaluate(dataset = '2WikiMQA', retriever = 'kg-chatgpt_test_docs_graph', k = 30)"
   ]
  },
  {
   "cell_type": "markdown",
   "id": "a314216b-8111-48ad-b506-2a4a0f24d123",
   "metadata": {},
   "source": [
    "# MuSiQue"
   ]
  },
  {
   "cell_type": "code",
   "execution_count": null,
   "id": "c7106075-bdd9-45cf-8bc6-33986ecc90ac",
   "metadata": {},
   "outputs": [],
   "source": [
    "# no\n",
    "evaluate(dataset = 'musique', retriever = 'no', k = 30)"
   ]
  },
  {
   "cell_type": "code",
   "execution_count": null,
   "id": "0ef5f30f-c8b0-4542-9d64-9a56c21db55e",
   "metadata": {},
   "outputs": [],
   "source": [
    "# golden\n",
    "evaluate(dataset = 'musique', retriever = 'golden', k = 30)"
   ]
  },
  {
   "cell_type": "code",
   "execution_count": null,
   "id": "d149e1c5-f751-4cef-85f6-800d74e03f8d",
   "metadata": {},
   "outputs": [],
   "source": [
    "# knn\n",
    "evaluate(dataset = 'musique', retriever = 'knn', k = 30)"
   ]
  },
  {
   "cell_type": "code",
   "execution_count": null,
   "id": "48a530a0-6c1c-4cc9-82f7-121157869390",
   "metadata": {},
   "outputs": [],
   "source": [
    "# bm25\n",
    "evaluate(dataset = 'musique', retriever = 'bm25', k = 30)"
   ]
  },
  {
   "cell_type": "code",
   "execution_count": null,
   "id": "79d488a3-79fd-45a7-a120-d6d58c43979a",
   "metadata": {},
   "outputs": [],
   "source": [
    "# tf-idf\n",
    "evaluate(dataset = 'musique', retriever = 'tf-idf', k = 30)"
   ]
  },
  {
   "cell_type": "code",
   "execution_count": null,
   "id": "7fa177f6-84fd-4dea-bfaf-7cd5f372b221",
   "metadata": {},
   "outputs": [],
   "source": [
    "# mdr\n",
    "evaluate(dataset = 'musique', retriever = 'mhop', k = 30)"
   ]
  },
  {
   "cell_type": "code",
   "execution_count": null,
   "id": "0277c80c-d28f-4841-8fe9-821b12d00d58",
   "metadata": {},
   "outputs": [],
   "source": [
    "# dpr\n",
    "evaluate(dataset = 'musique', retriever = 'dpr', k = 30)"
   ]
  },
  {
   "cell_type": "code",
   "execution_count": null,
   "id": "518710f0-d2ea-4a52-9c31-7f9b9a4bc5ea",
   "metadata": {},
   "outputs": [],
   "source": [
    "# t5\n",
    "evaluate(dataset = 'musique', retriever = 't5', k = 30)"
   ]
  },
  {
   "cell_type": "code",
   "execution_count": null,
   "id": "20286804-b483-43ec-b256-21cabf62672b",
   "metadata": {},
   "outputs": [],
   "source": [
    "# llama\n",
    "evaluate(dataset = 'musique', retriever = 'llama', k = 30)"
   ]
  },
  {
   "cell_type": "code",
   "execution_count": null,
   "id": "8b165a9d-03d9-4072-a572-536f7e745910",
   "metadata": {},
   "outputs": [],
   "source": [
    "# kg\n",
    "evaluate(dataset = 'musique', retriever = 'kg_test_docs_graph', k = 30)"
   ]
  },
  {
   "cell_type": "code",
   "execution_count": null,
   "id": "a652f653-6e55-4447-bf67-7bbded4bed63",
   "metadata": {},
   "outputs": [],
   "source": [
    "# kg-t5\n",
    "evaluate(dataset = 'musique', retriever = 'kg-t5_graph_tagme_0.9', k = 30)"
   ]
  },
  {
   "cell_type": "code",
   "execution_count": null,
   "id": "c07b8846-5ca3-424e-ace4-cb103cfd26b4",
   "metadata": {},
   "outputs": [],
   "source": [
    "# kg-mdr\n",
    "evaluate(dataset = 'musique', retriever = 'kg-mdr_test_docs_graph', k = 30)"
   ]
  },
  {
   "cell_type": "code",
   "execution_count": null,
   "id": "30762870-b919-4ade-811f-816e8e22f867",
   "metadata": {},
   "outputs": [],
   "source": [
    "# kg-chatgpt\n",
    "evaluate(dataset = 'musique', retriever = 'kg-chatgpt_test_docs_graph', k = 30)"
   ]
  },
  {
   "cell_type": "code",
   "execution_count": null,
   "id": "7fef995d-4cc8-4129-b341-1889f8d401c2",
   "metadata": {},
   "outputs": [],
   "source": [
    "# IRCoT\n",
    "evaluate(dataset = 'musique', retriever = 'ircot', k = 30)"
   ]
  },
  {
   "cell_type": "code",
   "execution_count": null,
   "id": "c9f7a9af-28c2-4f16-af71-efceac2c0430",
   "metadata": {},
   "outputs": [],
   "source": [
    "# llm-mdr\n",
    "evaluate(dataset = 'musique', retriever = 'llm-mdr', k = 30)"
   ]
  }
 ],
 "metadata": {
  "kernelspec": {
   "display_name": "Python 3 (ipykernel)",
   "language": "python",
   "name": "python3"
  },
  "language_info": {
   "codemirror_mode": {
    "name": "ipython",
    "version": 3
   },
   "file_extension": ".py",
   "mimetype": "text/x-python",
   "name": "python",
   "nbconvert_exporter": "python",
   "pygments_lexer": "ipython3",
   "version": "3.10.14"
  }
 },
 "nbformat": 4,
 "nbformat_minor": 5
}
